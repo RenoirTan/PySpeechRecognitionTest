{
 "metadata": {
  "language_info": {
   "codemirror_mode": {
    "name": "ipython",
    "version": 3
   },
   "file_extension": ".py",
   "mimetype": "text/x-python",
   "name": "python",
   "nbconvert_exporter": "python",
   "pygments_lexer": "ipython3",
   "version": "3.9.4"
  },
  "orig_nbformat": 4,
  "kernelspec": {
   "name": "python3",
   "display_name": "Python 3.9.4 64-bit ('env')"
  },
  "interpreter": {
   "hash": "c3a1a3baea38c16c7d36b5f669ee9adfc1f82d125929148ad04576fb4cbcb16c"
  }
 },
 "nbformat": 4,
 "nbformat_minor": 2,
 "cells": [
  {
   "cell_type": "code",
   "execution_count": 3,
   "metadata": {},
   "outputs": [
    {
     "output_type": "stream",
     "name": "stdout",
     "text": [
      "Requirement already satisfied: SpeechRecognition==3.8.1 in d:\\programs\\python\\cpython\\python39\\lib\\site-packages (from -r requirements.txt (line 1)) (3.8.1)\n",
      "Requirement already satisfied: pydub==0.25.1 in d:\\programs\\python\\cpython\\python39\\lib\\site-packages (from -r requirements.txt (line 2)) (0.25.1)\n",
      "WARNING: Error parsing requirements for docutils: [Errno 2] No such file or directory: 'd:\\\\programs\\\\python\\\\cpython\\\\python39\\\\lib\\\\site-packages\\\\docutils-0.17.1.dist-info\\\\METADATA'\n"
     ]
    }
   ],
   "source": [
    "!pip install -r requirements.txt"
   ]
  },
  {
   "cell_type": "code",
   "execution_count": 4,
   "metadata": {},
   "outputs": [],
   "source": [
    "import speech_recognition as sr\n",
    "import info"
   ]
  },
  {
   "cell_type": "code",
   "execution_count": 5,
   "metadata": {},
   "outputs": [],
   "source": [
    "recognizer = sr.Recognizer()"
   ]
  },
  {
   "cell_type": "code",
   "execution_count": 10,
   "metadata": {},
   "outputs": [],
   "source": [
    "with sr.AudioFile(str(info.RECORDINGS / \"Intro.wav\")) as source:\n",
    "    audio: sr.AudioData = recognizer.listen(source)"
   ]
  },
  {
   "cell_type": "code",
   "execution_count": 11,
   "metadata": {},
   "outputs": [
    {
     "output_type": "stream",
     "name": "stdout",
     "text": [
      "today's episode of special guest Raven Mateo in Singapore\n"
     ]
    }
   ],
   "source": [
    "text = recognizer.recognize_google(audio)\n",
    "print(text)"
   ]
  },
  {
   "cell_type": "code",
   "execution_count": null,
   "metadata": {},
   "outputs": [],
   "source": []
  }
 ]
}